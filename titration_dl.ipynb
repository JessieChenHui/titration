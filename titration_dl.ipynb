{
 "cells": [
  {
   "cell_type": "code",
   "execution_count": null,
   "metadata": {},
   "outputs": [],
   "source": [
    "!pip install scikit-learn timm pandas einops ipywidgets"
   ]
  },
  {
   "cell_type": "code",
   "execution_count": null,
   "metadata": {},
   "outputs": [],
   "source": [
    "!pip install pybaselines"
   ]
  },
  {
   "cell_type": "code",
   "execution_count": null,
   "metadata": {},
   "outputs": [],
   "source": [
    "!export HF_ENDPOINT=https://hf-mirror.com"
   ]
  },
  {
   "cell_type": "code",
   "execution_count": 1,
   "metadata": {
    "colab": {
     "base_uri": "https://localhost:8080/"
    },
    "executionInfo": {
     "elapsed": 163472,
     "status": "ok",
     "timestamp": 1720603059779,
     "user": {
      "displayName": "Alex Lu",
      "userId": "08996830677750757333"
     },
     "user_tz": -480
    },
    "id": "bdkTGjjDKCuu",
    "outputId": "cf4fe304-a5d9-4d00-99db-653b3e7fe30d"
   },
   "outputs": [],
   "source": [
    "import torchvision.transforms as transforms\n",
    "from torch.utils.data import DataLoader\n",
    "import timm\n",
    "from timm.layers.classifier import ClassifierHead\n",
    "import pandas as pd\n",
    "from utils.datasets import ImageDataset\n",
    "from sklearn.model_selection import train_test_split\n",
    "from utils.misc import *\n",
    "import os\n",
    "import torch\n",
    "\n",
    "from models.titration_model import CustomModule"
   ]
  },
  {
   "cell_type": "code",
   "execution_count": 3,
   "metadata": {},
   "outputs": [],
   "source": [
    "def get_ds(root_path):\n",
    "    ds = pd.read_csv(os.path.join(root_path, 'labels.csv'), dtype=str)\n",
    "    num_classes = len(ds.iloc[:, 0].unique())\n",
    "\n",
    "    # 划分训练集和验证集（根据整个video划分）\n",
    "    valid_videos = ['MP_5', 'MP_17', 'VID_20250114_123113', 'VID_20250114_124017']\n",
    "    test_videos = ['MM_3', 'MP_3', 'MP_19', 'VID_20250114_122658', 'VID_20250114_130314', 'video_20250114_123706']\n",
    "\n",
    "    all_videos = ds.iloc[:, 1].unique()\n",
    "    train_videos = list(set(all_videos) - set(valid_videos) - set(test_videos))\n",
    "\n",
    "    X_train = ds[ds.iloc[:, 1].isin(train_videos)].reset_index(drop=True)\n",
    "    X_valid = ds[ds.iloc[:, 1].isin(valid_videos)].reset_index(drop=True)\n",
    "    X_test = ds[ds.iloc[:, 1].isin(test_videos)].reset_index(drop=True)\n",
    "\n",
    "    train_ds = ImageDataset(X_train, root_path, transform)\n",
    "    valid_ds = ImageDataset(X_valid, root_path, transform)\n",
    "    test_ds = ImageDataset(X_test, root_path, transform)\n",
    "\n",
    "    return num_classes, train_ds, valid_ds, test_ds"
   ]
  },
  {
   "cell_type": "code",
   "execution_count": 9,
   "metadata": {
    "scrolled": true,
    "tags": []
   },
   "outputs": [
    {
     "name": "stderr",
     "output_type": "stream",
     "text": [
      "Loading pretrained weights from Hugging Face hub (timm/convit_tiny.fb_in1k)\n",
      "[timm/convit_tiny.fb_in1k] Safe alternative available for 'pytorch_model.bin' (as 'model.safetensors'). Loading weights using safetensors.\n",
      "Missing keys (head.weight, head.bias) discovered while loading pretrained weights. This is expected if model is being adapted.\n",
      "------------------------------------------------------------------------------------------------------------------------\n",
      "Epoch 0: 100%|██████████| 942/942 [00:49<00:00, 19.05batch/s]\n",
      "Epoch 0: 100%|██████████| 67/67 [00:02<00:00, 25.12batch/s]\n",
      "epoch:0. Train Accuracy: 0.9095 Train Loss: 0.519163.\n",
      "epoch:0. Valid Accuracy: 0.8135 Valid Loss: 0.723545. patience count: 0\n",
      "Epoch 1: 100%|██████████| 942/942 [00:48<00:00, 19.37batch/s]\n",
      "Epoch 1: 100%|██████████| 67/67 [00:02<00:00, 24.19batch/s]\n",
      "epoch:1. Train Accuracy: 0.9750 Train Loss: 0.405924.\n",
      "epoch:1. Valid Accuracy: 0.8394 Valid Loss: 0.706168. patience count: 0\n",
      "Epoch 2: 100%|██████████| 942/942 [00:48<00:00, 19.38batch/s]\n",
      "Epoch 2: 100%|██████████| 67/67 [00:02<00:00, 24.45batch/s]\n",
      "Epoch 3: 100%|██████████| 942/942 [00:48<00:00, 19.52batch/s]\n",
      "Epoch 3: 100%|██████████| 67/67 [00:02<00:00, 23.43batch/s]\n",
      "epoch:3. Train Accuracy: 0.9840 Train Loss: 0.383692.\n",
      "epoch:3. Valid Accuracy: 0.8652 Valid Loss: 0.652870. patience count: 1\n",
      "Epoch 4: 100%|██████████| 942/942 [00:48<00:00, 19.62batch/s]\n",
      "Epoch 4: 100%|██████████| 67/67 [00:02<00:00, 26.08batch/s]\n",
      "epoch:4. Train Accuracy: 0.9865 Train Loss: 0.378237.\n",
      "epoch:4. Valid Accuracy: 0.8788 Valid Loss: 0.583826. patience count: 0\n",
      "Epoch 5: 100%|██████████| 942/942 [00:47<00:00, 19.68batch/s]\n",
      "Epoch 5: 100%|██████████| 67/67 [00:03<00:00, 21.71batch/s]\n",
      "Epoch 6: 100%|██████████| 942/942 [00:48<00:00, 19.60batch/s]\n",
      "Epoch 6: 100%|██████████| 67/67 [00:02<00:00, 26.73batch/s]\n",
      "Epoch 7: 100%|██████████| 942/942 [00:47<00:00, 19.73batch/s]\n",
      "Epoch 7: 100%|██████████| 67/67 [00:02<00:00, 27.38batch/s]\n",
      "Epoch 8: 100%|██████████| 942/942 [00:47<00:00, 19.72batch/s]\n",
      "Epoch 8: 100%|██████████| 67/67 [00:02<00:00, 28.12batch/s]\n",
      "Epoch 9: 100%|██████████| 942/942 [00:47<00:00, 19.76batch/s]\n",
      "Epoch 9: 100%|██████████| 67/67 [00:02<00:00, 28.25batch/s]\n",
      "Epoch 10: 100%|██████████| 942/942 [00:47<00:00, 19.74batch/s]\n",
      "Epoch 10: 100%|██████████| 67/67 [00:02<00:00, 27.59batch/s]\n",
      "epoch:10. Train Accuracy: 0.9906 Train Loss: 0.368376.\n",
      "epoch:10. Valid Accuracy: 0.8323 Valid Loss: 0.745250. patience count: 6\n",
      "Epoch 11: 100%|██████████| 942/942 [00:47<00:00, 19.72batch/s]\n",
      "Epoch 11: 100%|██████████| 67/67 [00:02<00:00, 27.26batch/s]\n",
      "Epoch 12: 100%|██████████| 942/942 [00:47<00:00, 19.75batch/s]\n",
      "Epoch 12: 100%|██████████| 67/67 [00:02<00:00, 30.10batch/s]\n",
      "Epoch 13: 100%|██████████| 942/942 [00:47<00:00, 19.80batch/s]\n",
      "Epoch 13: 100%|██████████| 67/67 [00:02<00:00, 29.23batch/s]\n",
      "epoch:13. Train Accuracy: 0.9900 Train Loss: 0.368488.\n",
      "epoch:13. Valid Accuracy: 0.8840 Valid Loss: 0.599246. patience count: 8\n",
      "Epoch 14: 100%|██████████| 942/942 [00:47<00:00, 19.85batch/s]\n",
      "Epoch 14: 100%|██████████| 67/67 [00:02<00:00, 30.55batch/s]\n",
      "Epoch 15: 100%|██████████| 942/942 [00:47<00:00, 19.80batch/s]\n",
      "Epoch 15: 100%|██████████| 67/67 [00:02<00:00, 29.35batch/s]\n",
      "Epoch 16: 100%|██████████| 942/942 [00:47<00:00, 19.73batch/s]\n",
      "Epoch 16: 100%|██████████| 67/67 [00:02<00:00, 30.70batch/s]\n",
      "Epoch 17: 100%|██████████| 942/942 [00:47<00:00, 19.80batch/s]\n",
      "Epoch 17: 100%|██████████| 67/67 [00:02<00:00, 30.82batch/s]\n",
      "Epoch 18: 100%|██████████| 942/942 [00:47<00:00, 19.90batch/s]\n",
      "Epoch 18: 100%|██████████| 67/67 [00:02<00:00, 30.50batch/s]\n",
      "Epoch 19: 100%|██████████| 942/942 [00:47<00:00, 19.92batch/s]\n",
      "Epoch 19: 100%|██████████| 67/67 [00:02<00:00, 30.94batch/s]\n",
      "Epoch 20: 100%|██████████| 942/942 [00:47<00:00, 19.74batch/s]\n",
      "Epoch 20: 100%|██████████| 67/67 [00:02<00:00, 30.99batch/s]\n",
      "epoch:20. Train Accuracy: 0.9933 Train Loss: 0.361713.\n",
      "epoch:20. Valid Accuracy: 0.8412 Valid Loss: 0.745659. patience count: 7\n",
      "Epoch 21: 100%|██████████| 942/942 [00:47<00:00, 19.94batch/s]\n",
      "Epoch 21: 100%|██████████| 67/67 [00:02<00:00, 30.63batch/s]\n",
      "Epoch 22: 100%|██████████| 942/942 [00:47<00:00, 19.89batch/s]\n",
      "Epoch 22: 100%|██████████| 67/67 [00:02<00:00, 30.49batch/s]\n",
      "Epoch 23: 100%|██████████| 942/942 [00:47<00:00, 19.93batch/s]\n",
      "Epoch 23: 100%|██████████| 67/67 [00:02<00:00, 29.84batch/s]\n",
      "epoch:23. Train Accuracy: 0.9939 Train Loss: 0.360233.\n",
      "epoch:23. Valid Accuracy: 0.7694 Valid Loss: 1.027762. patience count:10\n",
      "epoch:23. Early stopping!\n",
      "In train, best_accuracy is 0.884, in epoch 13, avg loss is 0.599246. time cost is 1205 seconds.\n",
      "Epoch 0: 100%|██████████| 98/98 [00:03<00:00, 29.98batch/s]\n",
      "acc1:0.826, acc5:1.000.\n",
      "In predict, accuracy is : 0.8255. =2588.0/3135. loss is 0.840537.  time cost is 273772 microseconds.\n",
      "precision: 0.857. recall:0.826. F1_score:0.821. \n",
      "confusion_matrix:\n",
      "\n",
      "[[1677    0    0    0]\n",
      " [ 187  331  122    0]\n",
      " [  15   14  450  196]\n",
      " [  12    1    0  130]]\n",
      "model_file:./outputs/checked/MR_convit_tiny_20250204142506_884_825.pth\n"
     ]
    }
   ],
   "source": [
    "# 设置设备（GPU或CPU）\n",
    "device = torch.device(\"cuda\" if torch.cuda.is_available() else \"cpu\")\n",
    "# os.environ[\"HF_ENDPOINT\"] = \"https://hf-mirror.com\"\n",
    "\n",
    "# 数据预处理\n",
    "transform = transforms.Compose([\n",
    "    transforms.CenterCrop(224),\n",
    "    # transforms.RandomRotation(degrees=10),\n",
    "    transforms.ToTensor(),\n",
    "    transforms.Normalize(mean=[0.485, 0.456, 0.406], std=[0.229, 0.224, 0.225]),\n",
    "])\n",
    "\n",
    "root_path = r'./data/MR'\n",
    "\n",
    "num_classes, train_ds, valid_ds, test_ds = get_ds(root_path)\n",
    "\n",
    "\n",
    "# 数据预处理\n",
    "test_transform = transforms.Compose([\n",
    "    transforms.Resize(224),\n",
    "    # transforms.RandomRotation(degrees=10),\n",
    "    transforms.ToTensor(),\n",
    "    transforms.Normalize(mean=[0.485, 0.456, 0.406], std=[0.229, 0.224, 0.225]),\n",
    "])\n",
    "\n",
    "valid_ds.set_transform(test_transform)\n",
    "test_ds.set_transform(test_transform)\n",
    "# 创建数据加载器\n",
    "train_loader = DataLoader(train_ds, batch_size=32, shuffle=True, num_workers=6, pin_memory=True)\n",
    "valid_loader = DataLoader(valid_ds, batch_size=32, shuffle=False, num_workers=4, pin_memory=True)\n",
    "test_loader = DataLoader(test_ds, batch_size=32, shuffle=False, num_workers=4, pin_memory=True)\n",
    "\n",
    "# 实例化模型\n",
    "model_name = 'convnext_tiny'\n",
    "model_name = 'maxvit_tiny_rw_224'\n",
    "model_name = 'swinv2_cr_small_ns_224'\n",
    "model_name = 'resnetv2_50x1_bit'\n",
    "model_name = 'resnest26d'\n",
    "model_name = 'coat_tiny'\n",
    "model_name = 'convit_tiny'\n",
    "\n",
    "model = CustomModule(model_name, num_classes=num_classes)\n",
    "# model.load_state_dict(torch.load('./outputs/checked/MR_convnext_tiny_20250202032022_991_990.pth'))\n",
    "\n",
    "log_file = f\"./logs/{model_name}-{datetime.now().strftime('%Y%m%d')}.log\"\n",
    "init_logger(log_file)\n",
    "logging.info('-' * 120)\n",
    "\n",
    "kwargs = {}\n",
    "kwargs['model_name_prefix'] = f'MR_{model_name}'\n",
    "kwargs['patience'] = 10\n",
    "# 训练模型\n",
    "best_model, results = train_predict(model, device, train_loader, valid_loader, test_loader, **kwargs)\n",
    "# logging.info(results)\n"
   ]
  },
  {
   "cell_type": "code",
   "execution_count": null,
   "metadata": {
    "id": "h61CNIYitwb-"
   },
   "outputs": [],
   "source": [
    "import numpy as np\n",
    "import torch\n",
    "from fvcore.nn import FlopCountAnalysis\n",
    "from fvcore.nn import flop_count_table\n",
    "\n",
    "from timm.models import create_model\n",
    "\n",
    "device = torch.device(\"cuda\" if torch.cuda.is_available() else \"cpu\")\n",
    "new_model = results[0]\n",
    "\n",
    "flops = FlopCountAnalysis(new_model, torch.rand(1, 3, 224, 224) .to(device))\n",
    "print(flop_count_table(flops, max_depth=2))"
   ]
  },
  {
   "cell_type": "code",
   "execution_count": null,
   "metadata": {
    "scrolled": true,
    "tags": []
   },
   "outputs": [],
   "source": [
    "!unzip MR.zip -d ./data"
   ]
  },
  {
   "cell_type": "code",
   "execution_count": null,
   "metadata": {},
   "outputs": [],
   "source": []
  }
 ],
 "metadata": {
  "accelerator": "GPU",
  "colab": {
   "authorship_tag": "ABX9TyP1AdqMdgXkoexKfj16Bwai",
   "gpuType": "T4",
   "provenance": []
  },
  "kernelspec": {
   "display_name": "Python 3 (ipykernel)",
   "language": "python",
   "name": "python3"
  },
  "language_info": {
   "codemirror_mode": {
    "name": "ipython",
    "version": 3
   },
   "file_extension": ".py",
   "mimetype": "text/x-python",
   "name": "python",
   "nbconvert_exporter": "python",
   "pygments_lexer": "ipython3",
   "version": "3.10.12"
  }
 },
 "nbformat": 4,
 "nbformat_minor": 4
}